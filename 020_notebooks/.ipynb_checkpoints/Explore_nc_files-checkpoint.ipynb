{
 "cells": [
  {
   "cell_type": "code",
   "execution_count": 1,
   "metadata": {},
   "outputs": [],
   "source": [
    "# load Library\n",
    "from netCDF4 import Dataset"
   ]
  },
  {
   "cell_type": "code",
   "execution_count": 2,
   "metadata": {},
   "outputs": [],
   "source": [
    "# load dataset\n",
    "dataset = Dataset('../010_data/precip.pentad.mean.nc')"
   ]
  },
  {
   "cell_type": "code",
   "execution_count": 3,
   "metadata": {},
   "outputs": [
    {
     "name": "stdout",
     "output_type": "stream",
     "text": [
      "odict_keys(['lon', 'lat', 'time'])\n"
     ]
    }
   ],
   "source": [
    "# print keys in dataset\n",
    "print(dataset.dimensions.keys())"
   ]
  },
  {
   "cell_type": "code",
   "execution_count": 4,
   "metadata": {},
   "outputs": [
    {
     "name": "stdout",
     "output_type": "stream",
     "text": [
      "<class 'netCDF4._netCDF4.Dimension'> (unlimited): name = 'time', size = 2774\n",
      "\n"
     ]
    }
   ],
   "source": [
    "# print a specific dimensions\n",
    "print(dataset.dimensions['time'])"
   ]
  },
  {
   "cell_type": "code",
   "execution_count": 5,
   "metadata": {},
   "outputs": [
    {
     "name": "stdout",
     "output_type": "stream",
     "text": [
      "COARDS\n"
     ]
    }
   ],
   "source": [
    "# print conventions (?)\n",
    "print(dataset.Conventions)"
   ]
  },
  {
   "cell_type": "code",
   "execution_count": 6,
   "metadata": {},
   "outputs": [
    {
     "name": "stdout",
     "output_type": "stream",
     "text": [
      "Conventions = COARDS\n",
      "title = CPC Merged Analysis of Precipitation Pentad data (excludes NCEP Reanalysis I)\n",
      "platform = Analyses\n",
      "source = ftp ftp.cpc.ncep.noaa.gov precip/cmap/pentad\n",
      "hisotry = Converted to chunked, deflated non-packed NetCDF4 Jul 2014\n",
      "dataset_title = CPC Merged Analysis of Precipitation\n",
      "documentation = https://www.esrl.noaa.gov/psd/data/gridded/data.cmap.html\n",
      "References = https://www.esrl.noaa.gov/psd/data/gridded/data.cmap.html\n",
      "version = V1701\n",
      "history = update 03/2017 V1701\n",
      "Version = V1701\n"
     ]
    }
   ],
   "source": [
    "# print all attributes of dataset, like description\n",
    "for attr in dataset.ncattrs():\n",
    "    print(attr, '=', getattr(dataset, attr))"
   ]
  },
  {
   "cell_type": "code",
   "execution_count": 7,
   "metadata": {},
   "outputs": [
    {
     "name": "stdout",
     "output_type": "stream",
     "text": [
      "OrderedDict([('lat', <class 'netCDF4._netCDF4.Variable'>\n",
      "float32 lat(lat)\n",
      "    units: degrees_north\n",
      "    actual_range: [ 88.75 -88.75]\n",
      "    long_name: Latitude\n",
      "    standard_name: latitude\n",
      "    axis: Y\n",
      "unlimited dimensions: \n",
      "current shape = (72,)\n",
      "filling on, default _FillValue of 9.969209968386869e+36 used\n",
      "), ('lon', <class 'netCDF4._netCDF4.Variable'>\n",
      "float32 lon(lon)\n",
      "    units: degrees_east\n",
      "    long_name: Longitude\n",
      "    actual_range: [  1.25 358.75]\n",
      "    standard_name: longitude\n",
      "    axis: X\n",
      "unlimited dimensions: \n",
      "current shape = (144,)\n",
      "filling on, default _FillValue of 9.969209968386869e+36 used\n",
      "), ('time', <class 'netCDF4._netCDF4.Variable'>\n",
      "float64 time(time)\n",
      "    units: hours since 1800-01-01 00:00:0.0\n",
      "    long_name: Time\n",
      "    delta_t: 0000-00-05 00:00:00\n",
      "    avg_period: 0000-01-00 00:00:00\n",
      "    standard_name: time\n",
      "    axis: T\n",
      "    actual_range: [1569072. 1902072.]\n",
      "unlimited dimensions: time\n",
      "current shape = (2774,)\n",
      "filling on, default _FillValue of 9.969209968386869e+36 used\n",
      "), ('precip', <class 'netCDF4._netCDF4.Variable'>\n",
      "float32 precip(time, lat, lon)\n",
      "    long_name: Average Pentad Rate of Precipitation\n",
      "    valid_range: [  0. 250.]\n",
      "    units: mm/day\n",
      "    add_offset: 0.0\n",
      "    scale_factor: 1.0\n",
      "    missing_value: -9.96921e+36\n",
      "    precision: 2\n",
      "    least_significant_digit: 2\n",
      "    var_desc: Precipitation\n",
      "    dataset: CPC Merged Analysis of Precipitation Standard\n",
      "    level_desc: Surface\n",
      "    statistic: Pentad Mean\n",
      "    parent_stat: Mean\n",
      "    actual_range: [  0.   209.67]\n",
      "unlimited dimensions: time\n",
      "current shape = (2774, 72, 144)\n",
      "filling on, default _FillValue of 9.969209968386869e+36 used\n",
      ")])\n"
     ]
    }
   ],
   "source": [
    "# print all variables in dataset with description\n",
    "print(dataset.variables)"
   ]
  },
  {
   "cell_type": "code",
   "execution_count": 8,
   "metadata": {},
   "outputs": [
    {
     "data": {
      "text/plain": [
       "('time', 'lat', 'lon')"
      ]
     },
     "execution_count": 8,
     "metadata": {},
     "output_type": "execute_result"
    }
   ],
   "source": [
    "# print dimensions of specific variable\n",
    "dataset.variables['precip'].dimensions"
   ]
  },
  {
   "cell_type": "code",
   "execution_count": 9,
   "metadata": {},
   "outputs": [
    {
     "data": {
      "text/plain": [
       "'mm/day'"
      ]
     },
     "execution_count": 9,
     "metadata": {},
     "output_type": "execute_result"
    }
   ],
   "source": [
    "# print unit of specific variable\n",
    "dataset.variables['precip'].units"
   ]
  },
  {
   "cell_type": "code",
   "execution_count": 23,
   "metadata": {},
   "outputs": [
    {
     "data": {
      "text/plain": [
       "masked_array(data=[ 88.75,  86.25,  83.75,  81.25,  78.75,  76.25,  73.75,\n",
       "                    71.25,  68.75,  66.25,  63.75,  61.25,  58.75,  56.25,\n",
       "                    53.75,  51.25,  48.75,  46.25,  43.75,  41.25,  38.75,\n",
       "                    36.25,  33.75,  31.25,  28.75,  26.25,  23.75,  21.25,\n",
       "                    18.75,  16.25,  13.75,  11.25,   8.75,   6.25,   3.75,\n",
       "                     1.25,  -1.25,  -3.75,  -6.25,  -8.75, -11.25, -13.75,\n",
       "                   -16.25, -18.75, -21.25, -23.75, -26.25, -28.75, -31.25,\n",
       "                   -33.75, -36.25, -38.75, -41.25, -43.75, -46.25, -48.75,\n",
       "                   -51.25, -53.75, -56.25, -58.75, -61.25, -63.75, -66.25,\n",
       "                   -68.75, -71.25, -73.75, -76.25, -78.75, -81.25, -83.75,\n",
       "                   -86.25, -88.75],\n",
       "             mask=False,\n",
       "       fill_value=1e+20,\n",
       "            dtype=float32)"
      ]
     },
     "execution_count": 23,
     "metadata": {},
     "output_type": "execute_result"
    }
   ],
   "source": [
    "dataset.variables['lat'][:]"
   ]
  },
  {
   "cell_type": "code",
   "execution_count": 10,
   "metadata": {},
   "outputs": [],
   "source": [
    "# use xarray to convert nc file to pandas dataframe\n",
    "import xarray as xr"
   ]
  },
  {
   "cell_type": "code",
   "execution_count": 11,
   "metadata": {},
   "outputs": [],
   "source": [
    "# convert to dataframe\n",
    "ds = xr.open_dataset('../010_data/precip.pentad.mean.nc')\n",
    "df = ds.to_dataframe()"
   ]
  },
  {
   "cell_type": "code",
   "execution_count": null,
   "metadata": {},
   "outputs": [],
   "source": []
  }
 ],
 "metadata": {
  "kernelspec": {
   "display_name": "Python 3",
   "language": "python",
   "name": "python3"
  },
  "language_info": {
   "codemirror_mode": {
    "name": "ipython",
    "version": 3
   },
   "file_extension": ".py",
   "mimetype": "text/x-python",
   "name": "python",
   "nbconvert_exporter": "python",
   "pygments_lexer": "ipython3",
   "version": "3.7.3"
  }
 },
 "nbformat": 4,
 "nbformat_minor": 2
}
