{
 "cells": [
  {
   "cell_type": "code",
   "execution_count": 1,
   "metadata": {},
   "outputs": [],
   "source": [
    "# import connector\n",
    "import mysql.connector as mariadb"
   ]
  },
  {
   "cell_type": "code",
   "execution_count": 5,
   "metadata": {},
   "outputs": [],
   "source": [
    "# make connection\n",
    "mariadb_connection = mariadb.connect(host='localhost',user='root', password='mariapw', database='FireDB')\n",
    "cursor = mariadb_connection.cursor()"
   ]
  },
  {
   "cell_type": "code",
   "execution_count": 6,
   "metadata": {},
   "outputs": [],
   "source": [
    "# execute command\n",
    "cursor.execute(\"Explain H_Fires\")"
   ]
  },
  {
   "cell_type": "code",
   "execution_count": 7,
   "metadata": {},
   "outputs": [
    {
     "name": "stdout",
     "output_type": "stream",
     "text": [
      "('H_Fire_id', 'varchar(32)', 'NO', 'PRI', None, '')\n",
      "('Valid_from', 'timestamp', 'NO', '', 'current_timestamp()', 'on update current_timestamp()')\n",
      "('Valid_to', 'datetime', 'YES', '', None, '')\n",
      "('Active', 'tinyint(1)', 'NO', '', None, '')\n"
     ]
    }
   ],
   "source": [
    "# print result\n",
    "for res in cursor:\n",
    "    print(res)"
   ]
  },
  {
   "cell_type": "code",
   "execution_count": null,
   "metadata": {},
   "outputs": [],
   "source": []
  }
 ],
 "metadata": {
  "kernelspec": {
   "display_name": "Python 3",
   "language": "python",
   "name": "python3"
  },
  "language_info": {
   "codemirror_mode": {
    "name": "ipython",
    "version": 3
   },
   "file_extension": ".py",
   "mimetype": "text/x-python",
   "name": "python",
   "nbconvert_exporter": "python",
   "pygments_lexer": "ipython3",
   "version": "3.7.3"
  }
 },
 "nbformat": 4,
 "nbformat_minor": 2
}
