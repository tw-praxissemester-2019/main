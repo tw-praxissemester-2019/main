{
 "cells": [
  {
   "cell_type": "code",
   "execution_count": 1,
   "metadata": {},
   "outputs": [],
   "source": [
    "import numpy as np"
   ]
  },
  {
   "cell_type": "code",
   "execution_count": 2,
   "metadata": {},
   "outputs": [],
   "source": [
    "ascii_grid = np.loadtxt(\"../010_data/wc2/grids/1/out1.asc\", skiprows=6)"
   ]
  },
  {
   "cell_type": "code",
   "execution_count": 3,
   "metadata": {},
   "outputs": [],
   "source": [
    "x_start=-124.93\n",
    "x_end=-60\n",
    "\n",
    "y_start=52\n",
    "y_end=20\n",
    "\n",
    "x_difference=x_start-x_end\n",
    "x_step=abs(x_difference)/len(ascii_grid[0])\n",
    "\n",
    "y_difference=y_start-y_end\n",
    "y_step=abs(y_difference)/len(ascii_grid)"
   ]
  },
  {
   "cell_type": "code",
   "execution_count": 4,
   "metadata": {},
   "outputs": [],
   "source": [
    "x=-120.404\n",
    "y=38.9331"
   ]
  },
  {
   "cell_type": "code",
   "execution_count": 5,
   "metadata": {},
   "outputs": [],
   "source": [
    "x_grid=round(abs(x_start-x)/x_step)\n",
    "y_grid=round(abs(y_start-y)/y_step)"
   ]
  },
  {
   "cell_type": "code",
   "execution_count": 7,
   "metadata": {},
   "outputs": [
    {
     "name": "stdout",
     "output_type": "stream",
     "text": [
      "2.5999999046325684\n"
     ]
    }
   ],
   "source": [
    "print(ascii_grid[y_grid][x_grid])"
   ]
  },
  {
   "cell_type": "code",
   "execution_count": null,
   "metadata": {},
   "outputs": [],
   "source": []
  }
 ],
 "metadata": {
  "kernelspec": {
   "display_name": "Python 3",
   "language": "python",
   "name": "python3"
  },
  "language_info": {
   "codemirror_mode": {
    "name": "ipython",
    "version": 3
   },
   "file_extension": ".py",
   "mimetype": "text/x-python",
   "name": "python",
   "nbconvert_exporter": "python",
   "pygments_lexer": "ipython3",
   "version": "3.7.3"
  }
 },
 "nbformat": 4,
 "nbformat_minor": 2
}
