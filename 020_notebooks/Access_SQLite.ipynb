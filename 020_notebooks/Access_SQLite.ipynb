{
 "cells": [
  {
   "cell_type": "code",
   "execution_count": 2,
   "metadata": {},
   "outputs": [],
   "source": [
    "# Import Database driver\n",
    "import sqlite3"
   ]
  },
  {
   "cell_type": "code",
   "execution_count": 3,
   "metadata": {},
   "outputs": [],
   "source": [
    "# Establish connection\n",
    "conn = sqlite3.connect(\"../010_data/FPA_FOD_20170508.sqlite\")"
   ]
  },
  {
   "cell_type": "code",
   "execution_count": 4,
   "metadata": {},
   "outputs": [],
   "source": [
    "# Make cursor to fetch results\n",
    "cur = conn.cursor()"
   ]
  },
  {
   "cell_type": "code",
   "execution_count": 8,
   "metadata": {},
   "outputs": [
    {
     "data": {
      "text/plain": [
       "<sqlite3.Cursor at 0x107852180>"
      ]
     },
     "execution_count": 8,
     "metadata": {},
     "output_type": "execute_result"
    }
   ],
   "source": [
    "# Execute query\n",
    "cur.execute(\"SELECT FOD_ID,FIRE_YEAR,DISCOVERY_DOY,FIRE_SIZE_CLASS,LATITUDE,LONGITUDE FROM Fires LIMIT 10;\")"
   ]
  },
  {
   "cell_type": "code",
   "execution_count": 9,
   "metadata": {},
   "outputs": [
    {
     "name": "stdout",
     "output_type": "stream",
     "text": [
      "[(1, 2005, 33, 'A', 40.03694444, -121.00583333), (2, 2004, 133, 'A', 38.93305556, -120.40444444), (3, 2004, 152, 'A', 38.98416667, -120.73555556), (4, 2004, 180, 'A', 38.55916667, -119.91333333), (5, 2004, 180, 'A', 38.55916667, -119.93305556), (6, 2004, 182, 'A', 38.63527778, -120.10361111), (7, 2004, 183, 'A', 38.68833333, -120.15333333), (8, 2005, 67, 'B', 40.96805556, -122.43388889), (9, 2005, 74, 'B', 41.23361111, -122.28333333), (10, 2004, 183, 'A', 38.54833333, -120.14916667)]\n"
     ]
    }
   ],
   "source": [
    "# Fetch results and print it\n",
    "results = cur.fetchall()\n",
    "print(results)"
   ]
  },
  {
   "cell_type": "code",
   "execution_count": 7,
   "metadata": {},
   "outputs": [
    {
     "data": {
      "text/plain": [
       "list"
      ]
     },
     "execution_count": 7,
     "metadata": {},
     "output_type": "execute_result"
    }
   ],
   "source": [
    "# What type of data is the result\n",
    "type(results)"
   ]
  },
  {
   "cell_type": "code",
   "execution_count": null,
   "metadata": {},
   "outputs": [],
   "source": []
  }
 ],
 "metadata": {
  "kernelspec": {
   "display_name": "Python 3",
   "language": "python",
   "name": "python3"
  },
  "language_info": {
   "codemirror_mode": {
    "name": "ipython",
    "version": 3
   },
   "file_extension": ".py",
   "mimetype": "text/x-python",
   "name": "python",
   "nbconvert_exporter": "python",
   "pygments_lexer": "ipython3",
   "version": "3.7.3"
  }
 },
 "nbformat": 4,
 "nbformat_minor": 2
}
